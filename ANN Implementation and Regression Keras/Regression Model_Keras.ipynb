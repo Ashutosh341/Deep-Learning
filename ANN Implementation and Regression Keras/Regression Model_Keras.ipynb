{
 "cells": [
  {
   "cell_type": "code",
   "execution_count": 6,
   "id": "35f46eec",
   "metadata": {},
   "outputs": [
    {
     "name": "stdout",
     "output_type": "stream",
     "text": [
      "Epoch 1/20\n",
      "32/32 [==============================] - 1s 2ms/step - loss: 2.8494\n",
      "Epoch 2/20\n",
      "32/32 [==============================] - 0s 2ms/step - loss: 2.6166\n",
      "Epoch 3/20\n",
      "32/32 [==============================] - 0s 2ms/step - loss: 2.3732\n",
      "Epoch 4/20\n",
      "32/32 [==============================] - 0s 2ms/step - loss: 2.1461\n",
      "Epoch 5/20\n",
      "32/32 [==============================] - 0s 2ms/step - loss: 1.9115\n",
      "Epoch 6/20\n",
      "32/32 [==============================] - 0s 2ms/step - loss: 1.6612\n",
      "Epoch 7/20\n",
      "32/32 [==============================] - 0s 2ms/step - loss: 1.4082\n",
      "Epoch 8/20\n",
      "32/32 [==============================] - 0s 2ms/step - loss: 1.1492\n",
      "Epoch 9/20\n",
      "32/32 [==============================] - 0s 2ms/step - loss: 0.8993\n",
      "Epoch 10/20\n",
      "32/32 [==============================] - 0s 2ms/step - loss: 0.6821\n",
      "Epoch 11/20\n",
      "32/32 [==============================] - 0s 2ms/step - loss: 0.4864\n",
      "Epoch 12/20\n",
      "32/32 [==============================] - 0s 2ms/step - loss: 0.3437\n",
      "Epoch 13/20\n",
      "32/32 [==============================] - 0s 2ms/step - loss: 0.2368\n",
      "Epoch 14/20\n",
      "32/32 [==============================] - 0s 2ms/step - loss: 0.1631\n",
      "Epoch 15/20\n",
      "32/32 [==============================] - 0s 2ms/step - loss: 0.1148\n",
      "Epoch 16/20\n",
      "32/32 [==============================] - 0s 2ms/step - loss: 0.0846\n",
      "Epoch 17/20\n",
      "32/32 [==============================] - 0s 2ms/step - loss: 0.0673\n",
      "Epoch 18/20\n",
      "32/32 [==============================] - 0s 2ms/step - loss: 0.0561\n",
      "Epoch 19/20\n",
      "32/32 [==============================] - 0s 2ms/step - loss: 0.0494\n",
      "Epoch 20/20\n",
      "32/32 [==============================] - 0s 2ms/step - loss: 0.0459\n",
      "32/32 [==============================] - 0s 2ms/step\n",
      "32/32 [==============================] - 0s 2ms/step - loss: 0.0437\n",
      "Mean squared error: 0.04374178498983383\n"
     ]
    }
   ],
   "source": [
    "import numpy as np\n",
    "import keras.utils\n",
    "from keras.models import Sequential\n",
    "from keras.layers import Dense\n",
    "\n",
    "# Generate random data\n",
    "x = np.random.rand(1000, 8)\n",
    "y = 3*x[:,0] + 2*x[:,1] - 4*x[:,2] + x[:,3]**2 + 0.5*x[:,4]**3 - 1.2*x[:,5]**2 + 0.8*x[:,6] - 0.2*x[:,7] + 0.1*np.random.randn(1000)\n",
    "\n",
    "# Build the model\n",
    "model = keras.Sequential()\n",
    "model.add(Dense(5, activation='relu', input_shape=(8,)))\n",
    "model.add(Dense(5, activation='relu'))\n",
    "model.add(Dense(1))\n",
    "\n",
    "\n",
    "# Compile the model\n",
    "model.compile(loss='mean_squared_error', optimizer='adam')\n",
    "\n",
    "# Train the model\n",
    "model.fit(x, y, epochs=20, batch_size=32)\n",
    "\n",
    "# Use the model to make predictions\n",
    "predictions = model.predict(x)\n",
    "\n",
    "# Evaluate the model\n",
    "mse = model.evaluate(x, y)\n",
    "print(\"Mean squared error:\", mse)\n"
   ]
  },
  {
   "cell_type": "code",
   "execution_count": null,
   "id": "05e39ee8",
   "metadata": {},
   "outputs": [],
   "source": []
  }
 ],
 "metadata": {
  "kernelspec": {
   "display_name": "Python 3 (ipykernel)",
   "language": "python",
   "name": "python3"
  },
  "language_info": {
   "codemirror_mode": {
    "name": "ipython",
    "version": 3
   },
   "file_extension": ".py",
   "mimetype": "text/x-python",
   "name": "python",
   "nbconvert_exporter": "python",
   "pygments_lexer": "ipython3",
   "version": "3.9.13"
  }
 },
 "nbformat": 4,
 "nbformat_minor": 5
}
